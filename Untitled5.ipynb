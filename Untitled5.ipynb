{
  "nbformat": 4,
  "nbformat_minor": 0,
  "metadata": {
    "colab": {
      "provenance": []
    },
    "kernelspec": {
      "name": "python3",
      "display_name": "Python 3"
    },
    "language_info": {
      "name": "python"
    }
  },
  "cells": [
    {
      "cell_type": "code",
      "execution_count": 137,
      "metadata": {
        "id": "vSnOWIdSuDGZ"
      },
      "outputs": [],
      "source": [
        "import matplotlib.pyplot as plt\n",
        "import pandas as pd\n",
        "import numpy as np\n",
        "from sklearn.feature_extraction.text import CountVectorizer\n",
        "from sklearn.pipeline import Pipeline\n",
        "from sklearn.metrics import accuracy_score\n",
        "from sklearn.linear_model import LogisticRegression\n",
        "from sklearn.model_selection import train_test_split\n",
        "\n",
        "from keras.layers import Input, Dense, Activation\n",
        "from keras.models import Model\n",
        "import tensorflow as tf\n",
        "from tensorflow.keras.utils import plot_model"
      ]
    },
    {
      "cell_type": "code",
      "source": [
        "# Carrega o DataFrame com as colunas 'review_comment_title' e 'review_score'\n",
        "df = pd.read_csv('olist_order_reviews_dataset.csv').dropna()\n",
        "df.head()"
      ],
      "metadata": {
        "colab": {
          "base_uri": "https://localhost:8080/",
          "height": 314
        },
        "id": "eEJDi3aFuIiA",
        "outputId": "bd74a2f5-1c89-4a72-dd02-d354f588b064"
      },
      "execution_count": 138,
      "outputs": [
        {
          "output_type": "execute_result",
          "data": {
            "text/plain": [
              "                           review_id                          order_id  \\\n",
              "9   8670d52e15e00043ae7de4c01cc2fe06  b9bf720beb4ab3728760088589c62129   \n",
              "15  3948b09f7c818e2d86c9a546758b2335  e51478e7e277a83743b6f9991dbfa3fb   \n",
              "19  373cbeecea8286a2b66c97b1b157ec46  583174fbe37d3d5f0d6661be3aad1786   \n",
              "22  d21bbc789670eab777d27372ab9094cc  4fc44d78867142c627497b60a7e0228a   \n",
              "34  c92cdd7dd544a01aa35137f901669cdf  37e7875cdce5a9e5b3a692971f370151   \n",
              "\n",
              "    review_score     review_comment_title  \\\n",
              "9              4                recomendo   \n",
              "15             5          Super recomendo   \n",
              "19             1  Não chegou meu produto    \n",
              "22             5                    Ótimo   \n",
              "34             4               Muito bom.   \n",
              "\n",
              "                               review_comment_message review_creation_date  \\\n",
              "9   aparelho eficiente. no site a marca do aparelh...  2018-05-22 00:00:00   \n",
              "15  Vendedor confiável, produto ok e entrega antes...  2018-05-23 00:00:00   \n",
              "19                                            Péssimo  2018-08-15 00:00:00   \n",
              "22                                       Loja nota 10  2018-07-10 00:00:00   \n",
              "34  Recebi exatamente o que esperava. As demais en...  2018-06-07 00:00:00   \n",
              "\n",
              "   review_answer_timestamp  \n",
              "9      2018-05-23 16:45:47  \n",
              "15     2018-05-24 03:00:01  \n",
              "19     2018-08-15 04:10:37  \n",
              "22     2018-07-11 14:10:25  \n",
              "34     2018-06-09 18:44:02  "
            ],
            "text/html": [
              "\n",
              "  <div id=\"df-6b6804c7-999f-4729-b41f-d3262fb2e475\">\n",
              "    <div class=\"colab-df-container\">\n",
              "      <div>\n",
              "<style scoped>\n",
              "    .dataframe tbody tr th:only-of-type {\n",
              "        vertical-align: middle;\n",
              "    }\n",
              "\n",
              "    .dataframe tbody tr th {\n",
              "        vertical-align: top;\n",
              "    }\n",
              "\n",
              "    .dataframe thead th {\n",
              "        text-align: right;\n",
              "    }\n",
              "</style>\n",
              "<table border=\"1\" class=\"dataframe\">\n",
              "  <thead>\n",
              "    <tr style=\"text-align: right;\">\n",
              "      <th></th>\n",
              "      <th>review_id</th>\n",
              "      <th>order_id</th>\n",
              "      <th>review_score</th>\n",
              "      <th>review_comment_title</th>\n",
              "      <th>review_comment_message</th>\n",
              "      <th>review_creation_date</th>\n",
              "      <th>review_answer_timestamp</th>\n",
              "    </tr>\n",
              "  </thead>\n",
              "  <tbody>\n",
              "    <tr>\n",
              "      <th>9</th>\n",
              "      <td>8670d52e15e00043ae7de4c01cc2fe06</td>\n",
              "      <td>b9bf720beb4ab3728760088589c62129</td>\n",
              "      <td>4</td>\n",
              "      <td>recomendo</td>\n",
              "      <td>aparelho eficiente. no site a marca do aparelh...</td>\n",
              "      <td>2018-05-22 00:00:00</td>\n",
              "      <td>2018-05-23 16:45:47</td>\n",
              "    </tr>\n",
              "    <tr>\n",
              "      <th>15</th>\n",
              "      <td>3948b09f7c818e2d86c9a546758b2335</td>\n",
              "      <td>e51478e7e277a83743b6f9991dbfa3fb</td>\n",
              "      <td>5</td>\n",
              "      <td>Super recomendo</td>\n",
              "      <td>Vendedor confiável, produto ok e entrega antes...</td>\n",
              "      <td>2018-05-23 00:00:00</td>\n",
              "      <td>2018-05-24 03:00:01</td>\n",
              "    </tr>\n",
              "    <tr>\n",
              "      <th>19</th>\n",
              "      <td>373cbeecea8286a2b66c97b1b157ec46</td>\n",
              "      <td>583174fbe37d3d5f0d6661be3aad1786</td>\n",
              "      <td>1</td>\n",
              "      <td>Não chegou meu produto</td>\n",
              "      <td>Péssimo</td>\n",
              "      <td>2018-08-15 00:00:00</td>\n",
              "      <td>2018-08-15 04:10:37</td>\n",
              "    </tr>\n",
              "    <tr>\n",
              "      <th>22</th>\n",
              "      <td>d21bbc789670eab777d27372ab9094cc</td>\n",
              "      <td>4fc44d78867142c627497b60a7e0228a</td>\n",
              "      <td>5</td>\n",
              "      <td>Ótimo</td>\n",
              "      <td>Loja nota 10</td>\n",
              "      <td>2018-07-10 00:00:00</td>\n",
              "      <td>2018-07-11 14:10:25</td>\n",
              "    </tr>\n",
              "    <tr>\n",
              "      <th>34</th>\n",
              "      <td>c92cdd7dd544a01aa35137f901669cdf</td>\n",
              "      <td>37e7875cdce5a9e5b3a692971f370151</td>\n",
              "      <td>4</td>\n",
              "      <td>Muito bom.</td>\n",
              "      <td>Recebi exatamente o que esperava. As demais en...</td>\n",
              "      <td>2018-06-07 00:00:00</td>\n",
              "      <td>2018-06-09 18:44:02</td>\n",
              "    </tr>\n",
              "  </tbody>\n",
              "</table>\n",
              "</div>\n",
              "      <button class=\"colab-df-convert\" onclick=\"convertToInteractive('df-6b6804c7-999f-4729-b41f-d3262fb2e475')\"\n",
              "              title=\"Convert this dataframe to an interactive table.\"\n",
              "              style=\"display:none;\">\n",
              "        \n",
              "  <svg xmlns=\"http://www.w3.org/2000/svg\" height=\"24px\"viewBox=\"0 0 24 24\"\n",
              "       width=\"24px\">\n",
              "    <path d=\"M0 0h24v24H0V0z\" fill=\"none\"/>\n",
              "    <path d=\"M18.56 5.44l.94 2.06.94-2.06 2.06-.94-2.06-.94-.94-2.06-.94 2.06-2.06.94zm-11 1L8.5 8.5l.94-2.06 2.06-.94-2.06-.94L8.5 2.5l-.94 2.06-2.06.94zm10 10l.94 2.06.94-2.06 2.06-.94-2.06-.94-.94-2.06-.94 2.06-2.06.94z\"/><path d=\"M17.41 7.96l-1.37-1.37c-.4-.4-.92-.59-1.43-.59-.52 0-1.04.2-1.43.59L10.3 9.45l-7.72 7.72c-.78.78-.78 2.05 0 2.83L4 21.41c.39.39.9.59 1.41.59.51 0 1.02-.2 1.41-.59l7.78-7.78 2.81-2.81c.8-.78.8-2.07 0-2.86zM5.41 20L4 18.59l7.72-7.72 1.47 1.35L5.41 20z\"/>\n",
              "  </svg>\n",
              "      </button>\n",
              "      \n",
              "  <style>\n",
              "    .colab-df-container {\n",
              "      display:flex;\n",
              "      flex-wrap:wrap;\n",
              "      gap: 12px;\n",
              "    }\n",
              "\n",
              "    .colab-df-convert {\n",
              "      background-color: #E8F0FE;\n",
              "      border: none;\n",
              "      border-radius: 50%;\n",
              "      cursor: pointer;\n",
              "      display: none;\n",
              "      fill: #1967D2;\n",
              "      height: 32px;\n",
              "      padding: 0 0 0 0;\n",
              "      width: 32px;\n",
              "    }\n",
              "\n",
              "    .colab-df-convert:hover {\n",
              "      background-color: #E2EBFA;\n",
              "      box-shadow: 0px 1px 2px rgba(60, 64, 67, 0.3), 0px 1px 3px 1px rgba(60, 64, 67, 0.15);\n",
              "      fill: #174EA6;\n",
              "    }\n",
              "\n",
              "    [theme=dark] .colab-df-convert {\n",
              "      background-color: #3B4455;\n",
              "      fill: #D2E3FC;\n",
              "    }\n",
              "\n",
              "    [theme=dark] .colab-df-convert:hover {\n",
              "      background-color: #434B5C;\n",
              "      box-shadow: 0px 1px 3px 1px rgba(0, 0, 0, 0.15);\n",
              "      filter: drop-shadow(0px 1px 2px rgba(0, 0, 0, 0.3));\n",
              "      fill: #FFFFFF;\n",
              "    }\n",
              "  </style>\n",
              "\n",
              "      <script>\n",
              "        const buttonEl =\n",
              "          document.querySelector('#df-6b6804c7-999f-4729-b41f-d3262fb2e475 button.colab-df-convert');\n",
              "        buttonEl.style.display =\n",
              "          google.colab.kernel.accessAllowed ? 'block' : 'none';\n",
              "\n",
              "        async function convertToInteractive(key) {\n",
              "          const element = document.querySelector('#df-6b6804c7-999f-4729-b41f-d3262fb2e475');\n",
              "          const dataTable =\n",
              "            await google.colab.kernel.invokeFunction('convertToInteractive',\n",
              "                                                     [key], {});\n",
              "          if (!dataTable) return;\n",
              "\n",
              "          const docLinkHtml = 'Like what you see? Visit the ' +\n",
              "            '<a target=\"_blank\" href=https://colab.research.google.com/notebooks/data_table.ipynb>data table notebook</a>'\n",
              "            + ' to learn more about interactive tables.';\n",
              "          element.innerHTML = '';\n",
              "          dataTable['output_type'] = 'display_data';\n",
              "          await google.colab.output.renderOutput(dataTable, element);\n",
              "          const docLink = document.createElement('div');\n",
              "          docLink.innerHTML = docLinkHtml;\n",
              "          element.appendChild(docLink);\n",
              "        }\n",
              "      </script>\n",
              "    </div>\n",
              "  </div>\n",
              "  "
            ]
          },
          "metadata": {},
          "execution_count": 138
        }
      ]
    },
    {
      "cell_type": "code",
      "source": [
        "# Separa os dados em conjuntos de treino e teste\n",
        "X_train, X_test, y_train, y_test = train_test_split(df['review_comment_title'], df['review_score'])"
      ],
      "metadata": {
        "id": "P8crb16QuaMI"
      },
      "execution_count": 139,
      "outputs": []
    },
    {
      "cell_type": "code",
      "source": [
        "# Definindo um pipeline com CountVectorizer e LogisticRegression\n",
        "classifier = Pipeline([\n",
        "                        ('my_vectorizer', CountVectorizer(stop_words=['de', 'a', 'o', 'que', 'e', 'do', 'ainda', 'da', 'em', 'um', 'para', 'é', 'com', 'não', 'uma', 'os', 'no', 'se', 'na', 'por', 'mais', 'as', 'dos', 'como', 'mas', 'foi', 'ao', 'ele', 'das', 'tem', 'à', 'seu', 'sua', 'ou', 'ser', 'quando', 'muito', 'há', 'nos', 'já', 'está', 'eu', 'também', 'só', 'pelo', 'pela', 'até', 'isso', 'ela', 'entre', 'era', 'depois', 'sem', 'mesmo', 'aos', 'ter', 'seus', 'quem', 'nas', 'me', 'esse', 'eles', 'estão', 'você', 'tinha', 'foram', 'essa', 'num', 'nem', 'suas', 'meu', 'às', 'minha', 'têm', 'numa', 'pelos', 'elas', 'havia', 'seja', 'qual', 'será', 'nós', 'tenho', 'lhe', 'deles', 'essas', 'esses', 'pelas', 'este', 'fosse', 'dele', 'tu', 'te', 'vocês', 'vos', 'lhes', 'meus', 'minhas', 'teu', 'tua', 'teus', 'tuas', 'nosso', 'nossa', 'nossos', 'nossas', 'dela', 'delas', 'esta', 'estes', 'estas', 'aquele', 'aquela', 'aqueles', 'aquelas', 'isto', 'aquilo', 'estou', 'está', 'estamos', 'estão', 'estive', 'esteve', 'estivemos', 'estiveram', 'estava', 'estávamos', 'estavam', 'estivera', 'estivéramos', 'esteja', 'estejamos', 'estejam', 'estivesse', 'estivéssemos', 'estivessem', 'estiver', 'estivermos', 'estiverem', 'hei', 'há', 'havemos', 'hão', 'houve', 'houvemos', 'houveram', 'houvera', 'houvéramos', 'haja', 'hajamos', 'hajam', 'houvesse', 'houvéssemos', 'houvessem', 'houver', 'houvermos', 'houverem', 'houverei', 'houverá', 'houveremos', 'houverão', 'houveria', 'houveríamos', 'houveriam', 'sou', 'somos', 'são', 'nao', 'era', 'éramos', 'eram', 'fui', 'foi', 'fomos', 'foram', 'fora', 'fôramos', 'seja', 'sejamos', 'sejam', 'fosse', 'fôssemos', 'fossem', 'for', 'formos', 'forem', 'serei', 'será', 'seremos', 'serão', 'seria', 'seríamos', 'seriam', 'tenho', 'tem', 'temos', 'tém', 'tinha', 'tínhamos', 'tinham', 'tive', 'teve', 'tivemos', 'tiveram', 'tivera', 'tivéramos', 'tenha', 'tenhamos', 'tenham', 'tivesse', 'tivéssemos', 'tivessem', 'tiver', 'tivermos', 'tiverem', 'terei', 'terá', 'teremos', 'terão', 'teria', 'teríamos', 'teriam'], binary=True, max_features=500)),\n",
        "                        ('my_classifier', LogisticRegression(penalty=None, solver='saga', max_iter=10000))\n",
        "                        ])\n",
        "# Aplicando o fit no modelo para diminuir o erro do modelo\n",
        "classifier.fit(X_train,y_train)\n",
        "# Predizer o y (score do review)\n",
        "y_pred = classifier.predict(X_test)\n",
        "# Acurácia do modelo\n",
        "acc = accuracy_score(y_pred,y_test)\n",
        "print(acc)"
      ],
      "metadata": {
        "colab": {
          "base_uri": "https://localhost:8080/"
        },
        "id": "hXYnnr6Ausiy",
        "outputId": "f81ff715-3f6e-4887-8846-aae4aa372a1f"
      },
      "execution_count": 140,
      "outputs": [
        {
          "output_type": "stream",
          "name": "stdout",
          "text": [
            "0.6573170731707317\n"
          ]
        }
      ]
    },
    {
      "cell_type": "code",
      "source": [
        "# Funcão de pré processamento de dados de y fazendo com que 3 seja o limite de baixo para reviews bons e para cima dos ruins.\n",
        "def pre_processing_outputs(y):\n",
        "    y_out = np.zeros_like(y)\n",
        "    y_out[ y<3 ] = -1.0\n",
        "    y_out[ y>=3 ] = 1.0\n",
        "    y_out = y_out.reshape( (-1, 1))\n",
        "    return y_out.astype(float)\n",
        "\n",
        "# Pré processa os dados de y\n",
        "y_train_ = pre_processing_outputs(y_train)\n",
        "y_test_ = pre_processing_outputs(y_test)\n",
        "\n",
        "# Vectorizer que cria as matrizes de tokens.\n",
        "vectorizer = CountVectorizer(stop_words=['de', 'a', 'o', 'que', 'e', 'do', 'da', 'em', 'nao', 'um', 'ainda', 'para', 'é', 'com', 'não', 'uma', 'os', 'no', 'se', 'na', 'por', 'mais', 'as', 'dos', 'como', 'mas', 'foi', 'ao', 'ele', 'das', 'tem', 'à', 'seu', 'sua', 'ou', 'ser', 'quando', 'muito', 'há', 'nos', 'já', 'está', 'eu', 'também', 'só', 'pelo', 'pela', 'até', 'isso', 'ela', 'entre', 'era', 'depois', 'sem', 'mesmo', 'aos', 'ter', 'seus', 'quem', 'nas', 'me', 'esse', 'eles', 'estão', 'você', 'tinha', 'foram', 'essa', 'num', 'nem', 'suas', 'meu', 'às', 'minha', 'têm', 'numa', 'pelos', 'elas', 'havia', 'seja', 'qual', 'será', 'nós', 'tenho', 'lhe', 'deles', 'essas', 'esses', 'pelas', 'este', 'fosse', 'dele', 'tu', 'te', 'vocês', 'vos', 'lhes', 'meus', 'minhas', 'teu', 'tua', 'teus', 'tuas', 'nosso', 'nossa', 'nossos', 'nossas', 'dela', 'delas', 'esta', 'estes', 'estas', 'aquele', 'aquela', 'aqueles', 'aquelas', 'isto', 'aquilo', 'estou', 'está', 'estamos', 'estão', 'estive', 'esteve', 'estivemos', 'estiveram', 'estava', 'estávamos', 'estavam', 'estivera', 'estivéramos', 'esteja', 'estejamos', 'estejam', 'estivesse', 'estivéssemos', 'estivessem', 'estiver', 'estivermos', 'estiverem', 'hei', 'há', 'havemos', 'hão', 'houve', 'houvemos', 'houveram', 'houvera', 'houvéramos', 'haja', 'hajamos', 'hajam', 'houvesse', 'houvéssemos', 'houvessem', 'houver', 'houvermos', 'houverem', 'houverei', 'houverá', 'houveremos', 'houverão', 'houveria', 'houveríamos', 'houveriam', 'sou', 'somos', 'são', 'era', 'éramos', 'eram', 'fui', 'foi', 'fomos', 'foram', 'fora', 'fôramos', 'seja', 'sejamos', 'sejam', 'fosse', 'fôssemos', 'fossem', 'for', 'formos', 'forem', 'serei', 'será', 'seremos', 'serão', 'seria', 'seríamos', 'seriam', 'tenho', 'tem', 'temos', 'tém', 'tinha', 'tínhamos', 'tinham', 'tive', 'teve', 'tivemos', 'tiveram', 'tivera', 'tivéramos', 'tenha', 'tenhamos', 'tenham', 'tivesse', 'tivéssemos', 'tivessem', 'tiver', 'tivermos', 'tiverem', 'terei', 'terá', 'teremos', 'terão', 'teria', 'teríamos', 'teriam'], binary=True, max_features=500)\n",
        "X_train_ = vectorizer.fit_transform(X_train).todense().astype(float)\n",
        "X_test_ = vectorizer.transform(X_test).todense().astype(float)"
      ],
      "metadata": {
        "id": "JVF1hf4Juxfv"
      },
      "execution_count": 143,
      "outputs": []
    },
    {
      "cell_type": "code",
      "source": [
        "# Função de criação do modelo de redes neurais\n",
        "def base_model(vocab_size=500):\n",
        "    input_layer = Input(shape=(vocab_size,))\n",
        "    x = input_layer\n",
        "    x = Dense(1, name='classifier')(x)\n",
        "    x = Activation('tanh')(x)\n",
        "    return Model(input_layer, x)\n",
        "\n",
        "# Instancia o modelo\n",
        "clf = base_model()\n",
        "# Compila o modelo e coloca o erro como o RMSE\n",
        "clf.compile(loss='mean_squared_error', metrics=['accuracy'])\n",
        "# Fit do modelo ajustando o modelo para errar menos\n",
        "clf.fit(X_train_, y_train_, epochs=50, verbose=1)"
      ],
      "metadata": {
        "colab": {
          "base_uri": "https://localhost:8080/"
        },
        "id": "wXH5hLnmvzDP",
        "outputId": "3943ae0e-3df1-438e-8a37-d19de3f01baa"
      },
      "execution_count": 144,
      "outputs": [
        {
          "output_type": "stream",
          "name": "stdout",
          "text": [
            "Epoch 1/50\n",
            "231/231 [==============================] - 1s 1ms/step - loss: 0.7889 - accuracy: 0.0183\n",
            "Epoch 2/50\n",
            "231/231 [==============================] - 0s 1ms/step - loss: 0.5997 - accuracy: 0.2987\n",
            "Epoch 3/50\n",
            "231/231 [==============================] - 0s 2ms/step - loss: 0.5292 - accuracy: 0.5331\n",
            "Epoch 4/50\n",
            "231/231 [==============================] - 0s 2ms/step - loss: 0.4880 - accuracy: 0.5585\n",
            "Epoch 5/50\n",
            "231/231 [==============================] - 0s 1ms/step - loss: 0.4594 - accuracy: 0.5661\n",
            "Epoch 6/50\n",
            "231/231 [==============================] - 0s 1ms/step - loss: 0.4388 - accuracy: 0.5734\n",
            "Epoch 7/50\n",
            "231/231 [==============================] - 0s 1ms/step - loss: 0.4235 - accuracy: 0.5789\n",
            "Epoch 8/50\n",
            "231/231 [==============================] - 0s 2ms/step - loss: 0.4115 - accuracy: 0.5814\n",
            "Epoch 9/50\n",
            "231/231 [==============================] - 0s 2ms/step - loss: 0.4021 - accuracy: 0.5917\n",
            "Epoch 10/50\n",
            "231/231 [==============================] - 0s 1ms/step - loss: 0.3940 - accuracy: 0.5930\n",
            "Epoch 11/50\n",
            "231/231 [==============================] - 0s 1ms/step - loss: 0.3874 - accuracy: 0.6020\n",
            "Epoch 12/50\n",
            "231/231 [==============================] - 0s 1ms/step - loss: 0.3818 - accuracy: 0.6088\n",
            "Epoch 13/50\n",
            "231/231 [==============================] - 0s 1ms/step - loss: 0.3769 - accuracy: 0.6088\n",
            "Epoch 14/50\n",
            "231/231 [==============================] - 0s 2ms/step - loss: 0.3727 - accuracy: 0.6146\n",
            "Epoch 15/50\n",
            "231/231 [==============================] - 0s 2ms/step - loss: 0.3689 - accuracy: 0.6182\n",
            "Epoch 16/50\n",
            "231/231 [==============================] - 0s 2ms/step - loss: 0.3655 - accuracy: 0.6207\n",
            "Epoch 17/50\n",
            "231/231 [==============================] - 1s 2ms/step - loss: 0.3625 - accuracy: 0.6226\n",
            "Epoch 18/50\n",
            "231/231 [==============================] - 1s 2ms/step - loss: 0.3596 - accuracy: 0.6250\n",
            "Epoch 19/50\n",
            "231/231 [==============================] - 0s 2ms/step - loss: 0.3572 - accuracy: 0.6273\n",
            "Epoch 20/50\n",
            "231/231 [==============================] - 0s 2ms/step - loss: 0.3549 - accuracy: 0.6283\n",
            "Epoch 21/50\n",
            "231/231 [==============================] - 1s 2ms/step - loss: 0.3529 - accuracy: 0.6289\n",
            "Epoch 22/50\n",
            "231/231 [==============================] - 1s 2ms/step - loss: 0.3509 - accuracy: 0.6300\n",
            "Epoch 23/50\n",
            "231/231 [==============================] - 0s 2ms/step - loss: 0.3491 - accuracy: 0.6311\n",
            "Epoch 24/50\n",
            "231/231 [==============================] - 0s 2ms/step - loss: 0.3475 - accuracy: 0.6327\n",
            "Epoch 25/50\n",
            "231/231 [==============================] - 0s 2ms/step - loss: 0.3459 - accuracy: 0.6338\n",
            "Epoch 26/50\n",
            "231/231 [==============================] - 0s 2ms/step - loss: 0.3445 - accuracy: 0.6357\n",
            "Epoch 27/50\n",
            "231/231 [==============================] - 0s 2ms/step - loss: 0.3432 - accuracy: 0.6368\n",
            "Epoch 28/50\n",
            "231/231 [==============================] - 0s 2ms/step - loss: 0.3420 - accuracy: 0.6398\n",
            "Epoch 29/50\n",
            "231/231 [==============================] - 0s 2ms/step - loss: 0.3408 - accuracy: 0.6410\n",
            "Epoch 30/50\n",
            "231/231 [==============================] - 0s 1ms/step - loss: 0.3396 - accuracy: 0.6418\n",
            "Epoch 31/50\n",
            "231/231 [==============================] - 0s 1ms/step - loss: 0.3386 - accuracy: 0.6426\n",
            "Epoch 32/50\n",
            "231/231 [==============================] - 0s 1ms/step - loss: 0.3375 - accuracy: 0.6444\n",
            "Epoch 33/50\n",
            "231/231 [==============================] - 0s 1ms/step - loss: 0.3366 - accuracy: 0.6463\n",
            "Epoch 34/50\n",
            "231/231 [==============================] - 0s 2ms/step - loss: 0.3358 - accuracy: 0.6471\n",
            "Epoch 35/50\n",
            "231/231 [==============================] - 0s 1ms/step - loss: 0.3349 - accuracy: 0.6494\n",
            "Epoch 36/50\n",
            "231/231 [==============================] - 0s 2ms/step - loss: 0.3341 - accuracy: 0.6500\n",
            "Epoch 37/50\n",
            "231/231 [==============================] - 0s 2ms/step - loss: 0.3333 - accuracy: 0.6504\n",
            "Epoch 38/50\n",
            "231/231 [==============================] - 0s 1ms/step - loss: 0.3326 - accuracy: 0.6524\n",
            "Epoch 39/50\n",
            "231/231 [==============================] - 0s 1ms/step - loss: 0.3319 - accuracy: 0.6539\n",
            "Epoch 40/50\n",
            "231/231 [==============================] - 0s 2ms/step - loss: 0.3312 - accuracy: 0.6535\n",
            "Epoch 41/50\n",
            "231/231 [==============================] - 0s 1ms/step - loss: 0.3307 - accuracy: 0.6561\n",
            "Epoch 42/50\n",
            "231/231 [==============================] - 0s 2ms/step - loss: 0.3301 - accuracy: 0.6571\n",
            "Epoch 43/50\n",
            "231/231 [==============================] - 0s 2ms/step - loss: 0.3295 - accuracy: 0.6574\n",
            "Epoch 44/50\n",
            "231/231 [==============================] - 0s 2ms/step - loss: 0.3290 - accuracy: 0.6578\n",
            "Epoch 45/50\n",
            "231/231 [==============================] - 0s 2ms/step - loss: 0.3284 - accuracy: 0.6577\n",
            "Epoch 46/50\n",
            "231/231 [==============================] - 0s 1ms/step - loss: 0.3279 - accuracy: 0.6594\n",
            "Epoch 47/50\n",
            "231/231 [==============================] - 0s 2ms/step - loss: 0.3274 - accuracy: 0.6600\n",
            "Epoch 48/50\n",
            "231/231 [==============================] - 0s 2ms/step - loss: 0.3269 - accuracy: 0.6597\n",
            "Epoch 49/50\n",
            "231/231 [==============================] - 0s 2ms/step - loss: 0.3265 - accuracy: 0.6611\n",
            "Epoch 50/50\n",
            "231/231 [==============================] - 1s 3ms/step - loss: 0.3261 - accuracy: 0.6611\n"
          ]
        },
        {
          "output_type": "execute_result",
          "data": {
            "text/plain": [
              "<keras.callbacks.History at 0x7feefade9850>"
            ]
          },
          "metadata": {},
          "execution_count": 144
        }
      ]
    },
    {
      "cell_type": "code",
      "source": [
        "# Acurácia do modelo\n",
        "acc = clf.evaluate(X_test_, y_test_)\n",
        "print(acc)"
      ],
      "metadata": {
        "colab": {
          "base_uri": "https://localhost:8080/"
        },
        "id": "sl5brPPev07O",
        "outputId": "451d18aa-ae76-45a1-c94e-44b13a4a8098"
      },
      "execution_count": 145,
      "outputs": [
        {
          "output_type": "stream",
          "name": "stdout",
          "text": [
            "77/77 [==============================] - 0s 2ms/step - loss: 0.3447 - accuracy: 0.6467\n",
            "[0.3446659743785858, 0.6467479467391968]\n"
          ]
        }
      ]
    },
    {
      "cell_type": "code",
      "source": [
        "y_pred = clf.predict(X_test_)"
      ],
      "metadata": {
        "colab": {
          "base_uri": "https://localhost:8080/"
        },
        "id": "4aTUPbb_v6Oe",
        "outputId": "2b9209fd-c106-4438-b2ff-185789c04bb5"
      },
      "execution_count": 147,
      "outputs": [
        {
          "output_type": "stream",
          "name": "stdout",
          "text": [
            "77/77 [==============================] - 0s 1ms/step\n"
          ]
        }
      ]
    },
    {
      "cell_type": "code",
      "source": [
        "clf = base_model()\n",
        "clf.compile(loss='mean_squared_error', metrics=['accuracy'])\n",
        "# Define a history para plotar os erros e a acurácia com uma parte para validação do modelo o que costuma melhorá-lo.\n",
        "history = clf.fit(X_train_, y_train_, epochs=50, verbose=1, validation_split=0.1)"
      ],
      "metadata": {
        "colab": {
          "base_uri": "https://localhost:8080/"
        },
        "id": "YwxA5qR1wFXc",
        "outputId": "46079e1a-d490-4a9c-d6c9-3552662062d7"
      },
      "execution_count": 149,
      "outputs": [
        {
          "output_type": "stream",
          "name": "stdout",
          "text": [
            "Epoch 1/50\n",
            "208/208 [==============================] - 1s 3ms/step - loss: 0.8129 - accuracy: 0.0011 - val_loss: 0.6864 - val_accuracy: 0.0054\n",
            "Epoch 2/50\n",
            "208/208 [==============================] - 1s 2ms/step - loss: 0.6151 - accuracy: 0.2370 - val_loss: 0.5743 - val_accuracy: 0.4702\n",
            "Epoch 3/50\n",
            "208/208 [==============================] - 1s 3ms/step - loss: 0.5407 - accuracy: 0.5059 - val_loss: 0.5276 - val_accuracy: 0.5434\n",
            "Epoch 4/50\n",
            "208/208 [==============================] - 1s 3ms/step - loss: 0.5000 - accuracy: 0.5437 - val_loss: 0.4961 - val_accuracy: 0.5678\n",
            "Epoch 5/50\n",
            "208/208 [==============================] - 1s 4ms/step - loss: 0.4707 - accuracy: 0.5698 - val_loss: 0.4731 - val_accuracy: 0.5732\n",
            "Epoch 6/50\n",
            "208/208 [==============================] - 1s 5ms/step - loss: 0.4488 - accuracy: 0.5779 - val_loss: 0.4567 - val_accuracy: 0.5732\n",
            "Epoch 7/50\n",
            "208/208 [==============================] - 1s 3ms/step - loss: 0.4321 - accuracy: 0.5808 - val_loss: 0.4445 - val_accuracy: 0.5759\n",
            "Epoch 8/50\n",
            "208/208 [==============================] - 1s 3ms/step - loss: 0.4190 - accuracy: 0.5833 - val_loss: 0.4355 - val_accuracy: 0.5786\n",
            "Epoch 9/50\n",
            "208/208 [==============================] - 1s 4ms/step - loss: 0.4085 - accuracy: 0.5867 - val_loss: 0.4282 - val_accuracy: 0.5813\n",
            "Epoch 10/50\n",
            "208/208 [==============================] - 1s 7ms/step - loss: 0.3998 - accuracy: 0.5913 - val_loss: 0.4225 - val_accuracy: 0.5827\n",
            "Epoch 11/50\n",
            "208/208 [==============================] - 1s 4ms/step - loss: 0.3923 - accuracy: 0.6026 - val_loss: 0.4177 - val_accuracy: 0.5962\n",
            "Epoch 12/50\n",
            "208/208 [==============================] - 1s 4ms/step - loss: 0.3861 - accuracy: 0.6049 - val_loss: 0.4142 - val_accuracy: 0.6003\n",
            "Epoch 13/50\n",
            "208/208 [==============================] - 1s 5ms/step - loss: 0.3808 - accuracy: 0.6083 - val_loss: 0.4111 - val_accuracy: 0.6057\n",
            "Epoch 14/50\n",
            "208/208 [==============================] - 1s 4ms/step - loss: 0.3760 - accuracy: 0.6105 - val_loss: 0.4087 - val_accuracy: 0.6098\n",
            "Epoch 15/50\n",
            "208/208 [==============================] - 1s 3ms/step - loss: 0.3718 - accuracy: 0.6138 - val_loss: 0.4065 - val_accuracy: 0.6125\n",
            "Epoch 16/50\n",
            "208/208 [==============================] - 1s 3ms/step - loss: 0.3681 - accuracy: 0.6192 - val_loss: 0.4044 - val_accuracy: 0.6138\n",
            "Epoch 17/50\n",
            "208/208 [==============================] - 1s 4ms/step - loss: 0.3647 - accuracy: 0.6199 - val_loss: 0.4028 - val_accuracy: 0.6138\n",
            "Epoch 18/50\n",
            "208/208 [==============================] - 0s 2ms/step - loss: 0.3617 - accuracy: 0.6213 - val_loss: 0.4012 - val_accuracy: 0.6138\n",
            "Epoch 19/50\n",
            "208/208 [==============================] - 1s 3ms/step - loss: 0.3590 - accuracy: 0.6225 - val_loss: 0.3999 - val_accuracy: 0.6179\n",
            "Epoch 20/50\n",
            "208/208 [==============================] - 1s 3ms/step - loss: 0.3565 - accuracy: 0.6249 - val_loss: 0.3987 - val_accuracy: 0.6179\n",
            "Epoch 21/50\n",
            "208/208 [==============================] - 1s 3ms/step - loss: 0.3542 - accuracy: 0.6273 - val_loss: 0.3974 - val_accuracy: 0.6206\n",
            "Epoch 22/50\n",
            "208/208 [==============================] - 1s 3ms/step - loss: 0.3521 - accuracy: 0.6285 - val_loss: 0.3965 - val_accuracy: 0.6233\n",
            "Epoch 23/50\n",
            "208/208 [==============================] - 1s 3ms/step - loss: 0.3501 - accuracy: 0.6297 - val_loss: 0.3954 - val_accuracy: 0.6233\n",
            "Epoch 24/50\n",
            "208/208 [==============================] - 0s 2ms/step - loss: 0.3483 - accuracy: 0.6327 - val_loss: 0.3944 - val_accuracy: 0.6247\n",
            "Epoch 25/50\n",
            "208/208 [==============================] - 0s 2ms/step - loss: 0.3466 - accuracy: 0.6348 - val_loss: 0.3936 - val_accuracy: 0.6274\n",
            "Epoch 26/50\n",
            "208/208 [==============================] - 0s 2ms/step - loss: 0.3451 - accuracy: 0.6359 - val_loss: 0.3932 - val_accuracy: 0.6274\n",
            "Epoch 27/50\n",
            "208/208 [==============================] - 0s 2ms/step - loss: 0.3436 - accuracy: 0.6363 - val_loss: 0.3927 - val_accuracy: 0.6274\n",
            "Epoch 28/50\n",
            "208/208 [==============================] - 0s 2ms/step - loss: 0.3423 - accuracy: 0.6376 - val_loss: 0.3925 - val_accuracy: 0.6274\n",
            "Epoch 29/50\n",
            "208/208 [==============================] - 0s 2ms/step - loss: 0.3410 - accuracy: 0.6386 - val_loss: 0.3920 - val_accuracy: 0.6274\n",
            "Epoch 30/50\n",
            "208/208 [==============================] - 0s 2ms/step - loss: 0.3397 - accuracy: 0.6394 - val_loss: 0.3915 - val_accuracy: 0.6287\n",
            "Epoch 31/50\n",
            "208/208 [==============================] - 0s 2ms/step - loss: 0.3386 - accuracy: 0.6412 - val_loss: 0.3913 - val_accuracy: 0.6301\n",
            "Epoch 32/50\n",
            "208/208 [==============================] - 1s 2ms/step - loss: 0.3375 - accuracy: 0.6419 - val_loss: 0.3909 - val_accuracy: 0.6314\n",
            "Epoch 33/50\n",
            "208/208 [==============================] - 1s 3ms/step - loss: 0.3365 - accuracy: 0.6439 - val_loss: 0.3905 - val_accuracy: 0.6314\n",
            "Epoch 34/50\n",
            "208/208 [==============================] - 1s 3ms/step - loss: 0.3356 - accuracy: 0.6446 - val_loss: 0.3901 - val_accuracy: 0.6314\n",
            "Epoch 35/50\n",
            "208/208 [==============================] - 1s 4ms/step - loss: 0.3346 - accuracy: 0.6461 - val_loss: 0.3896 - val_accuracy: 0.6314\n",
            "Epoch 36/50\n",
            "208/208 [==============================] - 1s 5ms/step - loss: 0.3337 - accuracy: 0.6452 - val_loss: 0.3895 - val_accuracy: 0.6355\n",
            "Epoch 37/50\n",
            "208/208 [==============================] - 1s 5ms/step - loss: 0.3330 - accuracy: 0.6495 - val_loss: 0.3892 - val_accuracy: 0.6369\n",
            "Epoch 38/50\n",
            "208/208 [==============================] - 2s 8ms/step - loss: 0.3321 - accuracy: 0.6505 - val_loss: 0.3886 - val_accuracy: 0.6369\n",
            "Epoch 39/50\n",
            "208/208 [==============================] - 1s 4ms/step - loss: 0.3314 - accuracy: 0.6505 - val_loss: 0.3884 - val_accuracy: 0.6382\n",
            "Epoch 40/50\n",
            "208/208 [==============================] - 1s 3ms/step - loss: 0.3307 - accuracy: 0.6516 - val_loss: 0.3880 - val_accuracy: 0.6382\n",
            "Epoch 41/50\n",
            "208/208 [==============================] - 1s 3ms/step - loss: 0.3300 - accuracy: 0.6522 - val_loss: 0.3880 - val_accuracy: 0.6396\n",
            "Epoch 42/50\n",
            "208/208 [==============================] - 1s 3ms/step - loss: 0.3293 - accuracy: 0.6535 - val_loss: 0.3876 - val_accuracy: 0.6396\n",
            "Epoch 43/50\n",
            "208/208 [==============================] - 1s 3ms/step - loss: 0.3287 - accuracy: 0.6534 - val_loss: 0.3878 - val_accuracy: 0.6423\n",
            "Epoch 44/50\n",
            "208/208 [==============================] - 0s 2ms/step - loss: 0.3281 - accuracy: 0.6552 - val_loss: 0.3877 - val_accuracy: 0.6436\n",
            "Epoch 45/50\n",
            "208/208 [==============================] - 0s 2ms/step - loss: 0.3275 - accuracy: 0.6568 - val_loss: 0.3877 - val_accuracy: 0.6436\n",
            "Epoch 46/50\n",
            "208/208 [==============================] - 0s 2ms/step - loss: 0.3270 - accuracy: 0.6564 - val_loss: 0.3878 - val_accuracy: 0.6463\n",
            "Epoch 47/50\n",
            "208/208 [==============================] - 0s 2ms/step - loss: 0.3264 - accuracy: 0.6579 - val_loss: 0.3876 - val_accuracy: 0.6504\n",
            "Epoch 48/50\n",
            "208/208 [==============================] - 0s 2ms/step - loss: 0.3259 - accuracy: 0.6582 - val_loss: 0.3875 - val_accuracy: 0.6518\n",
            "Epoch 49/50\n",
            "208/208 [==============================] - 0s 2ms/step - loss: 0.3254 - accuracy: 0.6601 - val_loss: 0.3872 - val_accuracy: 0.6518\n",
            "Epoch 50/50\n",
            "208/208 [==============================] - 0s 2ms/step - loss: 0.3250 - accuracy: 0.6591 - val_loss: 0.3873 - val_accuracy: 0.6518\n"
          ]
        }
      ]
    },
    {
      "cell_type": "code",
      "source": [
        "# Acurácia do modelo\n",
        "acc = clf.evaluate(X_test_, y_test_)\n",
        "print(acc)"
      ],
      "metadata": {
        "colab": {
          "base_uri": "https://localhost:8080/"
        },
        "id": "OMINKEPWF7D1",
        "outputId": "2171498b-2fea-4622-d1a8-1e488aa2974a"
      },
      "execution_count": 150,
      "outputs": [
        {
          "output_type": "stream",
          "name": "stdout",
          "text": [
            "77/77 [==============================] - 0s 2ms/step - loss: 0.3480 - accuracy: 0.6472\n",
            "[0.34804579615592957, 0.6471544504165649]\n"
          ]
        }
      ]
    },
    {
      "cell_type": "code",
      "source": [
        "# Sem overfiting erros e acurácia convergindo\n",
        "plt.figure(figsize=(14,1))\n",
        "plt.plot(history.history['loss'], label='loss')\n",
        "plt.plot(history.history['val_loss'], label='val_loss')\n",
        "plt.legend()\n",
        "plt.show()\n",
        "plt.figure(figsize=(14,1))\n",
        "plt.plot(history.history['accuracy'], label='accuracy')\n",
        "plt.plot(history.history['val_accuracy'], label='val_accuracy')\n",
        "plt.legend()\n",
        "plt.show()"
      ],
      "metadata": {
        "colab": {
          "base_uri": "https://localhost:8080/",
          "height": 256
        },
        "id": "Au6MEYB0wItG",
        "outputId": "65a50e3a-e817-4d77-b5f4-3340eaa87fa5"
      },
      "execution_count": 151,
      "outputs": [
        {
          "output_type": "display_data",
          "data": {
            "text/plain": [
              "<Figure size 1400x100 with 1 Axes>"
            ],
            "image/png": "[encoded data removed]"
          },
          "metadata": {}
        },
        {
          "output_type": "display_data",
          "data": {
            "text/plain": [
              "<Figure size 1400x100 with 1 Axes>"
            ],
            "image/png": "[encoded data removed]"
          },
          "metadata": {}
        }
      ]
    },
    {
      "cell_type": "code",
      "source": [
        "#Junção entre o peso das palavras e as palavras\n",
        "from tqdm import tqdm\n",
        "weights = clf.get_layer('classifier').weights[0].numpy()\n",
        "CLASSE = -1\n",
        "for n in tqdm(range(len(vectorizer.vocabulary_))):\n",
        "    tuplas = [ (weights[vectorizer.vocabulary_[i],CLASSE], i) for i in vectorizer.vocabulary_.keys() ]\n",
        "    tuplas_ordenadas = sorted(tuplas, reverse=True) # reverse=True pede uma ordenação em ordem decrescente\n",
        "    palavras = [ t[1] for t in tuplas_ordenadas ]\n",
        "    contagens = [ t[0] for t in tuplas_ordenadas ]"
      ],
      "metadata": {
        "colab": {
          "base_uri": "https://localhost:8080/"
        },
        "id": "hLPxJ-BLxQic",
        "outputId": "99e5510a-bb0c-4ce2-94a4-b48c41d315e2"
      },
      "execution_count": 152,
      "outputs": [
        {
          "output_type": "stream",
          "name": "stderr",
          "text": [
            "100%|██████████| 500/500 [00:00<00:00, 2238.81it/s]\n"
          ]
        }
      ]
    },
    {
      "cell_type": "code",
      "source": [
        "n_palavras = 20\n",
        "\n",
        "plt.figure(figsize=(14,1))\n",
        "eixo_x = np.arange(n_palavras)\n",
        "plt.bar(eixo_x[0:n_palavras], contagens[-n_palavras:])\n",
        "plt.xticks(eixo_x[0:n_palavras], palavras[-n_palavras:], rotation=70)\n",
        "plt.title(\"Peso das palavras\")\n",
        "plt.show()"
      ],
      "metadata": {
        "colab": {
          "base_uri": "https://localhost:8080/",
          "height": 228
        },
        "id": "Il_YL3wvyUZe",
        "outputId": "e5b2b480-0511-4adc-cffb-f7a1be944df2"
      },
      "execution_count": 153,
      "outputs": [
        {
          "output_type": "display_data",
          "data": {
            "text/plain": [
              "<Figure size 1400x100 with 1 Axes>"
            ],
            "image/png": "[encoded data removed]"
          },
          "metadata": {}
        }
      ]
    },
    {
      "cell_type": "code",
      "source": [
        "# create a sample corpus\n",
        "df_test = df.drop(df[df['review_score'] > 3].index)\n",
        "documents = df_test['review_comment_title']\n",
        "\n",
        "# create a count vectorizer\n",
        "vectorizer = CountVectorizer(stop_words=['de', 'a', 'o', 'que', 'e', 'do', 'ainda', 'da', 'em', 'um', 'para', 'é', 'com', 'não', 'uma', 'os', 'no', 'se', 'na', 'por', 'mais', 'as', 'dos', 'como', 'mas', 'foi', 'ao', 'ele', 'das', 'tem', 'à', 'seu', 'sua', 'ou', 'ser', 'quando', 'muito', 'há', 'nos', 'já', 'está', 'eu', 'também', 'só', 'pelo', 'pela', 'até', 'isso', 'ela', 'entre', 'era', 'depois', 'sem', 'mesmo', 'aos', 'ter', 'seus', 'quem', 'nas', 'me', 'esse', 'eles', 'estão', 'você', 'tinha', 'foram', 'essa', 'num', 'nem', 'suas', 'meu', 'às', 'minha', 'têm', 'numa', 'pelos', 'elas', 'havia', 'seja', 'qual', 'será', 'nós', 'tenho', 'lhe', 'deles', 'essas', 'esses', 'pelas', 'este', 'fosse', 'dele', 'tu', 'te', 'vocês', 'vos', 'lhes', 'meus', 'minhas', 'teu', 'tua', 'teus', 'tuas', 'nosso', 'nossa', 'nossos', 'nossas', 'dela', 'delas', 'esta', 'estes', 'estas', 'aquele', 'aquela', 'aqueles', 'aquelas', 'isto', 'aquilo', 'estou', 'está', 'estamos', 'estão', 'estive', 'esteve', 'estivemos', 'estiveram', 'estava', 'estávamos', 'estavam', 'estivera', 'estivéramos', 'esteja', 'estejamos', 'estejam', 'estivesse', 'estivéssemos', 'estivessem', 'estiver', 'estivermos', 'estiverem', 'hei', 'há', 'havemos', 'hão', 'houve', 'houvemos', 'houveram', 'houvera', 'houvéramos', 'haja', 'hajamos', 'hajam', 'houvesse', 'houvéssemos', 'houvessem', 'houver', 'houvermos', 'houverem', 'houverei', 'houverá', 'houveremos', 'houverão', 'houveria', 'houveríamos', 'houveriam', 'sou', 'somos', 'são', 'nao', 'era', 'éramos', 'eram', 'fui', 'foi', 'fomos', 'foram', 'fora', 'fôramos', 'seja', 'sejamos', 'sejam', 'fosse', 'fôssemos', 'fossem', 'for', 'formos', 'forem', 'serei', 'será', 'seremos', 'serão', 'seria', 'seríamos', 'seriam', 'tenho', 'tem', 'temos', 'tém', 'tinha', 'tínhamos', 'tinham', 'tive', 'teve', 'tivemos', 'tiveram', 'tivera', 'tivéramos', 'tenha', 'tenhamos', 'tenham', 'tivesse', 'tivéssemos', 'tivessem', 'tiver', 'tivermos', 'tiverem', 'terei', 'terá', 'teremos', 'terão', 'teria', 'teríamos', 'teriam'])\n",
        "\n",
        "# fit the vectorizer on the corpus\n",
        "vectorizer.fit(documents)\n",
        "\n",
        "word1 = 'péssimo'\n",
        "word2 = 'falsificado'\n",
        "word3 = 'defeito'\n",
        "word1_index = vectorizer.vocabulary_.get(word1)\n",
        "word2_index = vectorizer.vocabulary_.get(word2)\n",
        "word3_index = vectorizer.vocabulary_.get(word3)\n",
        "\n",
        "counter = 0\n",
        "\n",
        "for document in documents:\n",
        "    # transform the document into a document-term matrix\n",
        "    doc_term_matrix = vectorizer.transform([document])\n",
        "\n",
        "    # convert the document-term matrix to a NumPy array\n",
        "    doc_term_array = doc_term_matrix.toarray()\n",
        "\n",
        "    # get the indices of the words in the vocabulary\n",
        "    word1_index = vectorizer.vocabulary_.get(word1)\n",
        "    word2_index = vectorizer.vocabulary_.get(word2)\n",
        "    word3_index = vectorizer.vocabulary_.get(word3)\n",
        "\n",
        "    # check if the words appear in the document\n",
        "    if doc_term_array[:, word1_index][0] > 0 and \\\n",
        "       doc_term_array[:, word2_index][0] > 0:\n",
        "        # print(f'The words \"{word1}\", \"{word2}\", and \"{word3}\" appear in the document: {document}')\n",
        "        counter = counter + 1\n",
        "    # else:\n",
        "        # print(f'The words \"{word1}\", \"{word2}\", and \"{word3}\" do not appear in the document: {document}')\n",
        "\n",
        "print(counter)"
      ],
      "metadata": {
        "colab": {
          "base_uri": "https://localhost:8080/"
        },
        "id": "m3vjidpj4EkW",
        "outputId": "bcf82ece-699d-4482-bed1-2692e77ea078"
      },
      "execution_count": 154,
      "outputs": [
        {
          "output_type": "stream",
          "name": "stdout",
          "text": [
            "0\n"
          ]
        }
      ]
    },
    {
      "cell_type": "code",
      "source": [],
      "metadata": {
        "id": "X83dejGFAE4K"
      },
      "execution_count": null,
      "outputs": []
    }
  ]
}